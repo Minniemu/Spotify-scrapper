{
 "cells": [
  {
   "cell_type": "code",
   "execution_count": null,
   "metadata": {},
   "outputs": [],
   "source": [
    "!pip install spotipy"
   ]
  },
  {
   "cell_type": "code",
   "execution_count": 2,
   "metadata": {},
   "outputs": [],
   "source": [
    "import spotipy\n",
    "from spotipy.oauth2 import SpotifyClientCredentials\n",
    "import json"
   ]
  },
  {
   "cell_type": "code",
   "execution_count": 35,
   "metadata": {},
   "outputs": [
    {
     "name": "stdout",
     "output_type": "stream",
     "text": [
      "16\n"
     ]
    }
   ],
   "source": [
    "credentials = json.load(open('authorization.json'))\n",
    "client_id = credentials['client_id']\n",
    "client_secret = credentials['client_secret']\n",
    "\n",
    "\n",
    "playlists = json.load(open('playlists_like_dislike.json'))\n",
    "print(len(playlists))"
   ]
  },
  {
   "cell_type": "code",
   "execution_count": 36,
   "metadata": {},
   "outputs": [],
   "source": [
    "client_credentials_manager = SpotifyClientCredentials(client_id=client_id,client_secret=client_secret)\n",
    "\n",
    "sp = spotipy.Spotify(client_credentials_manager=client_credentials_manager)"
   ]
  },
  {
   "cell_type": "code",
   "execution_count": 44,
   "metadata": {},
   "outputs": [
    {
     "name": "stderr",
     "output_type": "stream",
     "text": [
      "100%|██████████| 16/16 [00:01<00:00,  8.58it/s]\n"
     ]
    }
   ],
   "source": [
    "from tqdm import tqdm\n",
    "playlist_tracks_id = []\n",
    "playlist_tracks_titles = []\n",
    "playlist_tracks_artists = []\n",
    "playlist_tracks_first_artists = []\n",
    "for i in tqdm(range(len(playlists))):\n",
    "    playlist_index = i\n",
    "    playlist_uri = playlists[playlist_index]['uri']\n",
    "    like = playlists[playlist_index]['like']\n",
    "    uri = playlist_uri    # the URI is split by ':' to get the username and playlist ID\n",
    "    username = uri.split(':')[2]\n",
    "    playlist_id = uri.split(':')[4]\n",
    "    results = sp.user_playlist(username, playlist_id, 'tracks')\n",
    "    playlist_tracks_data = results['tracks']\n",
    "    for track in playlist_tracks_data['items']:\n",
    "        playlist_tracks_id.append(track['track']['id'])\n",
    "        playlist_tracks_titles.append(track['track']['name'])\n",
    "        # adds a list of all artists involved in the song to the list of artists for the playlist\n",
    "        artist_list = []\n",
    "        for artist in track['track']['artists']:\n",
    "            artist_list.append(artist['name'])\n",
    "        playlist_tracks_artists.append(artist_list)\n",
    "        playlist_tracks_first_artists.append(artist_list[0])"
   ]
  },
  {
   "cell_type": "code",
   "execution_count": 42,
   "metadata": {},
   "outputs": [
    {
     "name": "stdout",
     "output_type": "stream",
     "text": [
      "length of playlist 1093\n"
     ]
    }
   ],
   "source": [
    "print(\"length of playlist\",len(playlist_tracks_titles))"
   ]
  },
  {
   "cell_type": "code",
   "execution_count": 45,
   "metadata": {},
   "outputs": [
    {
     "name": "stdout",
     "output_type": "stream",
     "text": [
      "1093\n"
     ]
    }
   ],
   "source": [
    "import csv\n",
    "print(len(playlist_tracks_artists))\n",
    "with open('output.csv', 'w', newline='',encoding = 'utf-8') as csvfile:\n",
    "    # 建立 CSV 檔寫入器\n",
    "    writer = csv.writer(csvfile)\n",
    "    writer.writerow([\"index\",\"titles\",\"artists\"])\n",
    "    for i in range(len(playlist_tracks_titles)):\n",
    "        writer.writerow([i,playlist_tracks_titles[i],playlist_tracks_artists[i][0]])\n",
    "    "
   ]
  }
 ],
 "metadata": {
  "kernelspec": {
   "display_name": "Python 3",
   "language": "python",
   "name": "python3"
  },
  "language_info": {
   "codemirror_mode": {
    "name": "ipython",
    "version": 3
   },
   "file_extension": ".py",
   "mimetype": "text/x-python",
   "name": "python",
   "nbconvert_exporter": "python",
   "pygments_lexer": "ipython3",
   "version": "3.6.9"
  }
 },
 "nbformat": 4,
 "nbformat_minor": 2
}
